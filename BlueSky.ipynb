{
  "nbformat": 4,
  "nbformat_minor": 0,
  "metadata": {
    "colab": {
      "provenance": [],
      "collapsed_sections": [
        "tlMy9Qu4LBrL",
        "ydAINuEMLOTL",
        "6RH7_6oLKTr1"
      ]
    },
    "kernelspec": {
      "name": "python3",
      "display_name": "Python 3"
    },
    "language_info": {
      "name": "python"
    }
  },
  "cells": [
    {
      "cell_type": "markdown",
      "source": [
        "# Packages"
      ],
      "metadata": {
        "id": "tlMy9Qu4LBrL"
      }
    },
    {
      "cell_type": "code",
      "source": [
        "!pip install atproto"
      ],
      "metadata": {
        "colab": {
          "base_uri": "https://localhost:8080/"
        },
        "id": "NHxlaM9dLJbB",
        "outputId": "8d533df3-ad96-4319-96eb-6136eac6682f"
      },
      "execution_count": 1,
      "outputs": [
        {
          "output_type": "stream",
          "name": "stdout",
          "text": [
            "Requirement already satisfied: atproto in /usr/local/lib/python3.11/dist-packages (0.0.61)\n",
            "Requirement already satisfied: click<9,>=8.1.3 in /usr/local/lib/python3.11/dist-packages (from atproto) (8.1.8)\n",
            "Requirement already satisfied: cryptography<46,>=41.0.7 in /usr/local/lib/python3.11/dist-packages (from atproto) (43.0.3)\n",
            "Requirement already satisfied: dnspython<3,>=2.4.0 in /usr/local/lib/python3.11/dist-packages (from atproto) (2.7.0)\n",
            "Requirement already satisfied: httpx<0.29.0,>=0.25.0 in /usr/local/lib/python3.11/dist-packages (from atproto) (0.28.1)\n",
            "Requirement already satisfied: libipld<4,>=3.0.1 in /usr/local/lib/python3.11/dist-packages (from atproto) (3.0.1)\n",
            "Requirement already satisfied: pydantic<3,>=2.7 in /usr/local/lib/python3.11/dist-packages (from atproto) (2.11.4)\n",
            "Requirement already satisfied: typing-extensions<5,>=4.8.0 in /usr/local/lib/python3.11/dist-packages (from atproto) (4.13.2)\n",
            "Requirement already satisfied: websockets<14,>=12 in /usr/local/lib/python3.11/dist-packages (from atproto) (13.1)\n",
            "Requirement already satisfied: cffi>=1.12 in /usr/local/lib/python3.11/dist-packages (from cryptography<46,>=41.0.7->atproto) (1.17.1)\n",
            "Requirement already satisfied: anyio in /usr/local/lib/python3.11/dist-packages (from httpx<0.29.0,>=0.25.0->atproto) (4.9.0)\n",
            "Requirement already satisfied: certifi in /usr/local/lib/python3.11/dist-packages (from httpx<0.29.0,>=0.25.0->atproto) (2025.4.26)\n",
            "Requirement already satisfied: httpcore==1.* in /usr/local/lib/python3.11/dist-packages (from httpx<0.29.0,>=0.25.0->atproto) (1.0.9)\n",
            "Requirement already satisfied: idna in /usr/local/lib/python3.11/dist-packages (from httpx<0.29.0,>=0.25.0->atproto) (3.10)\n",
            "Requirement already satisfied: h11>=0.16 in /usr/local/lib/python3.11/dist-packages (from httpcore==1.*->httpx<0.29.0,>=0.25.0->atproto) (0.16.0)\n",
            "Requirement already satisfied: annotated-types>=0.6.0 in /usr/local/lib/python3.11/dist-packages (from pydantic<3,>=2.7->atproto) (0.7.0)\n",
            "Requirement already satisfied: pydantic-core==2.33.2 in /usr/local/lib/python3.11/dist-packages (from pydantic<3,>=2.7->atproto) (2.33.2)\n",
            "Requirement already satisfied: typing-inspection>=0.4.0 in /usr/local/lib/python3.11/dist-packages (from pydantic<3,>=2.7->atproto) (0.4.0)\n",
            "Requirement already satisfied: pycparser in /usr/local/lib/python3.11/dist-packages (from cffi>=1.12->cryptography<46,>=41.0.7->atproto) (2.22)\n",
            "Requirement already satisfied: sniffio>=1.1 in /usr/local/lib/python3.11/dist-packages (from anyio->httpx<0.29.0,>=0.25.0->atproto) (1.3.1)\n"
          ]
        }
      ]
    },
    {
      "cell_type": "code",
      "source": [
        "from atproto import Client\n",
        "import json\n",
        "from datetime import datetime, timezone\n",
        "import os"
      ],
      "metadata": {
        "id": "Uz0FcBm1MKKj"
      },
      "execution_count": 2,
      "outputs": []
    },
    {
      "cell_type": "markdown",
      "source": [
        "# Functions"
      ],
      "metadata": {
        "id": "ydAINuEMLOTL"
      }
    },
    {
      "cell_type": "code",
      "source": [
        "def save_json(data,output_folder,file_name):\n",
        "  os.makedirs(output_folder, exist_ok=True)\n",
        "  with open(output_folder+'/'+file_name, 'w', encoding='utf-8') as f:\n",
        "    json.dump(data, f, ensure_ascii=False, indent=2)\n"
      ],
      "metadata": {
        "id": "kJyDoZgnG20E"
      },
      "execution_count": 3,
      "outputs": []
    },
    {
      "cell_type": "code",
      "source": [
        "def save_posts_json(result,query,cursor):\n",
        "  output_folder=query\n",
        "  os.makedirs(output_folder, exist_ok=True)\n",
        "  data = result.model_dump()\n",
        "\n",
        "  if cursor is None:\n",
        "    file_name = f'posts_0.json'\n",
        "  else:\n",
        "    file_name = f'posts_{cursor}.json'\n",
        "\n",
        "  save_json(data,output_folder+'/posts',file_name)"
      ],
      "metadata": {
        "id": "RPmbOjyiGwTC"
      },
      "execution_count": 4,
      "outputs": []
    },
    {
      "cell_type": "code",
      "source": [
        "def save_threads_json(result,query,root_id):\n",
        "    output_folder=query\n",
        "    os.makedirs(output_folder, exist_ok=True)\n",
        "    data = result.model_dump()\n",
        "\n",
        "    file_name = f'thread_{root_id}.json'\n",
        "\n",
        "    save_json(data,output_folder+'/threads',file_name)\n"
      ],
      "metadata": {
        "id": "tHu0YqMXGrZ0"
      },
      "execution_count": 5,
      "outputs": []
    },
    {
      "cell_type": "code",
      "source": [
        "def find_root_uri(post):\n",
        "    try:\n",
        "      return post[\"record\"][\"reply\"][\"root\"][\"uri\"]\n",
        "    except (KeyError, TypeError):\n",
        "      return post[\"uri\"]"
      ],
      "metadata": {
        "id": "ZuBb8g5Iz9lN"
      },
      "execution_count": 6,
      "outputs": []
    },
    {
      "cell_type": "markdown",
      "source": [
        "# Client"
      ],
      "metadata": {
        "id": "lPxiqvNJMwsn"
      }
    },
    {
      "cell_type": "code",
      "source": [
        "user_name = ''\n",
        "user_password = ''\n",
        "\n",
        "client = Client()\n",
        "client.login(user_name, user_password)"
      ],
      "metadata": {
        "colab": {
          "base_uri": "https://localhost:8080/"
        },
        "id": "UQazuR1zLNph",
        "outputId": "6aaf6ff9-97a9-40b5-91fc-c3f9df6f75f2"
      },
      "execution_count": 7,
      "outputs": [
        {
          "output_type": "execute_result",
          "data": {
            "text/plain": [
              "ProfileViewDetailed(did='did:plc:gwar7tkxodqgvm3xema7dekb', handle='aleixnicolas.bsky.social', associated=ProfileAssociated(chat=None, feedgens=0, labeler=False, lists=0, starter_packs=0, py_type='app.bsky.actor.defs#profileAssociated'), avatar='https://cdn.bsky.app/img/avatar/plain/did:plc:gwar7tkxodqgvm3xema7dekb/bafkreier6ooh65m5cfkmueogubhpko64jwwe2gjc7yay7vuqjfjoxiamiq@jpeg', banner=None, created_at='2025-05-13T10:31:03.440Z', description=None, display_name='', followers_count=6, follows_count=1, indexed_at='2025-05-13T10:42:17.040Z', joined_via_starter_pack=None, labels=[Label(cts='2025-05-13T10:31:03.566Z', src='did:plc:gwar7tkxodqgvm3xema7dekb', uri='at://did:plc:gwar7tkxodqgvm3xema7dekb/app.bsky.actor.profile/self', val='!no-unauthenticated', cid='bafyreicijhetkuql7vfuinv6bgibrp4ljdf54ukyjt3jiphzskgnctlynm', exp=None, neg=None, sig=None, ver=None, py_type='com.atproto.label.defs#label')], pinned_post=None, posts_count=0, verification=None, viewer=ViewerState(blocked_by=False, blocking=None, blocking_by_list=None, followed_by=None, following=None, known_followers=None, muted=False, muted_by_list=None, py_type='app.bsky.actor.defs#viewerState'), py_type='app.bsky.actor.defs#profileViewDetailed')"
            ]
          },
          "metadata": {},
          "execution_count": 7
        }
      ]
    },
    {
      "cell_type": "markdown",
      "source": [
        "# Post query"
      ],
      "metadata": {
        "id": "6RH7_6oLKTr1"
      }
    },
    {
      "cell_type": "code",
      "source": [
        "# Search and save posts with corresponding query, can be modified to sort by date and\n",
        "# add additional filters.\n",
        "\n",
        "query='parking bonaire'\n",
        "max_cursor=5\n",
        "cursor = None\n",
        "for i in range(max_cursor):\n",
        "  result = client.app.bsky.feed.search_posts({'q': query\n",
        "                                            ,'sort': 'top'\n",
        "                                            #,'since': start_date\n",
        "                                            #,'unitl':end_date\n",
        "                                            #,'mentions':\n",
        "                                            #,'author':\n",
        "                                            #,'lang':\n",
        "                                            #,'domain':\n",
        "                                            #,'url':\n",
        "                                            #,'tag':\n",
        "                                            ,'limit': 100\n",
        "                                            ,'cursor': cursor\n",
        "                                            })\n",
        "  save_posts_json(result,query,cursor)\n",
        "  cursor = result.cursor\n",
        "  if cursor is None:\n",
        "    break\n"
      ],
      "metadata": {
        "id": "eiUaaxb9RQgT"
      },
      "execution_count": 8,
      "outputs": []
    },
    {
      "cell_type": "markdown",
      "source": [
        "# Thread query"
      ],
      "metadata": {
        "id": "7S5ZkfQcQ9F0"
      }
    },
    {
      "cell_type": "code",
      "source": [
        "query='parking bonaire'\n",
        "posts_dir = os.path.join(query, 'posts')\n",
        "unique_root_uris = set()\n",
        "\n",
        "for filename in os.listdir(posts_dir):\n",
        "  if filename.endswith('.json'):\n",
        "    filepath = os.path.join(posts_dir, filename)\n",
        "    with open(filepath, \"r\", encoding=\"utf-8\") as f:\n",
        "      posts = json.load(f)\n",
        "      for post in posts['posts']:\n",
        "        root_uri = find_root_uri(post)\n",
        "        unique_root_uris.add(root_uri)"
      ],
      "metadata": {
        "id": "fmRKYXGwdfRI"
      },
      "execution_count": 9,
      "outputs": []
    },
    {
      "cell_type": "code",
      "source": [
        "for i, root_uri in enumerate(unique_root_uris):\n",
        "  try:\n",
        "    result = client.app.bsky.feed.get_post_thread({'uri': root_uri,'depth': 1000})\n",
        "    save_threads_json(result,query,i)\n",
        "  except:\n",
        "    print('Thread not found: '+root_uri)"
      ],
      "metadata": {
        "colab": {
          "base_uri": "https://localhost:8080/"
        },
        "id": "rYXFWhx25v6b",
        "outputId": "96e97704-1a88-448b-f925-6f448451864f"
      },
      "execution_count": 10,
      "outputs": [
        {
          "output_type": "stream",
          "name": "stdout",
          "text": [
            "Thread not found: at://did:plc:rmwt56fehcqb4qbfgpo6ayie/app.bsky.feed.post/3la3a5ychq32x\n",
            "Thread not found: at://did:plc:mhstredor32uwsfajpoemgzf/app.bsky.feed.post/3lb3g7loork2w\n",
            "Thread not found: at://did:plc:sykhf5hlsdfuvaxfedmy32io/app.bsky.feed.post/3lb6l7pwty22r\n",
            "Thread not found: at://did:plc:swawo27jb75lygtiijxbszzp/app.bsky.feed.post/3l7xkqvffc72r\n"
          ]
        }
      ]
    }
  ]
}